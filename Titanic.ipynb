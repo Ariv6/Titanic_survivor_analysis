{
 "cells": [
  {
   "cell_type": "markdown",
   "id": "7b45c382-7fe4-4125-9a42-fc5714a2d6d2",
   "metadata": {},
   "source": [
    "### Titanic-Dataset"
   ]
  },
  {
   "cell_type": "markdown",
   "id": "c04420b6-209e-40fb-9776-9f440977b47e",
   "metadata": {},
   "source": [
    "#### Import Libraries"
   ]
  },
  {
   "cell_type": "code",
   "execution_count": 7,
   "id": "8fdf13a3-d32f-4dcf-ab25-6afe88fd74b1",
   "metadata": {},
   "outputs": [],
   "source": [
    "# Data manipulation\n",
    "import numpy as np\n",
    "import pandas as pd\n",
    "\n",
    "# Visualization\n",
    "import matplotlib.pyplot as plt\n",
    "import seaborn as sns\n",
    "\n",
    "# Machine Learning\n",
    "from sklearn.model_selection import train_test_split,cross_val_score, GridSearchCV\n",
    "from sklearn.preprocessing import StandardScaler\n",
    "from sklearn.ensemble import RandomForestClassifier\n",
    "from sklearn.metrics import classification_report, confusion_matrix\n",
    "\n",
    "\n",
    "from sklearn import preprocessing \n",
    "from sklearn.neighbors import KNeighborsClassifier\n",
    "from sklearn.tree import DecisionTreeClassifier\n",
    "from sklearn.ensemble import RandomForestClassifier, GradientBoostingClassifier, AdaBoostClassifier\n",
    "from xgboost import XGBClassifier\n",
    "from sklearn.linear_model import LogisticRegression\n",
    "from sklearn.metrics import confusion_matrix, classification_report, accuracy_score, precision_score, recall_score, f1_score, plot_roc_curve, roc_auc_score, roc_curve, auc, RocCurveDisplay, PrecisionRecallDisplay, precision_recall_curve,fbeta_score,make_scorer\n",
    "\n",
    "from sklearn.metrics import roc_curve\n",
    "\n",
    "from sklearn.preprocessing import OrdinalEncoder\n",
    "from sklearn.preprocessing import LabelEncoder\n",
    "from sklearn.neural_network import MLPClassifier\n",
    "\n",
    "random_seed = 1\n",
    "np.random.seed(random_seed)"
   ]
  },
  {
   "cell_type": "markdown",
   "id": "62b788ba-1c65-40a4-8129-5b04829fa74f",
   "metadata": {},
   "source": [
    "#### Load Data"
   ]
  },
  {
   "cell_type": "code",
   "execution_count": 8,
   "id": "44f2caba-33d8-46bb-96e7-51adeb4798a8",
   "metadata": {},
   "outputs": [],
   "source": [
    "df = pd.read_csv(\"train.csv\")"
   ]
  },
  {
   "cell_type": "markdown",
   "id": "ba122634-c373-49df-a7fd-ec929271aeab",
   "metadata": {},
   "source": [
    "### Exploring Dataset"
   ]
  },
  {
   "cell_type": "code",
   "execution_count": 9,
   "id": "c2f73848-e675-43e7-92bf-182cb796c982",
   "metadata": {},
   "outputs": [
    {
     "data": {
      "text/html": [
       "<div>\n",
       "<style scoped>\n",
       "    .dataframe tbody tr th:only-of-type {\n",
       "        vertical-align: middle;\n",
       "    }\n",
       "\n",
       "    .dataframe tbody tr th {\n",
       "        vertical-align: top;\n",
       "    }\n",
       "\n",
       "    .dataframe thead th {\n",
       "        text-align: right;\n",
       "    }\n",
       "</style>\n",
       "<table border=\"1\" class=\"dataframe\">\n",
       "  <thead>\n",
       "    <tr style=\"text-align: right;\">\n",
       "      <th></th>\n",
       "      <th>PassengerId</th>\n",
       "      <th>Survived</th>\n",
       "      <th>Pclass</th>\n",
       "      <th>Name</th>\n",
       "      <th>Sex</th>\n",
       "      <th>Age</th>\n",
       "      <th>SibSp</th>\n",
       "      <th>Parch</th>\n",
       "      <th>Ticket</th>\n",
       "      <th>Fare</th>\n",
       "      <th>Cabin</th>\n",
       "      <th>Embarked</th>\n",
       "    </tr>\n",
       "  </thead>\n",
       "  <tbody>\n",
       "    <tr>\n",
       "      <th>0</th>\n",
       "      <td>1</td>\n",
       "      <td>0</td>\n",
       "      <td>3</td>\n",
       "      <td>Braund, Mr. Owen Harris</td>\n",
       "      <td>male</td>\n",
       "      <td>22.0</td>\n",
       "      <td>1</td>\n",
       "      <td>0</td>\n",
       "      <td>A/5 21171</td>\n",
       "      <td>7.2500</td>\n",
       "      <td>NaN</td>\n",
       "      <td>S</td>\n",
       "    </tr>\n",
       "    <tr>\n",
       "      <th>1</th>\n",
       "      <td>2</td>\n",
       "      <td>1</td>\n",
       "      <td>1</td>\n",
       "      <td>Cumings, Mrs. John Bradley (Florence Briggs Th...</td>\n",
       "      <td>female</td>\n",
       "      <td>38.0</td>\n",
       "      <td>1</td>\n",
       "      <td>0</td>\n",
       "      <td>PC 17599</td>\n",
       "      <td>71.2833</td>\n",
       "      <td>C85</td>\n",
       "      <td>C</td>\n",
       "    </tr>\n",
       "    <tr>\n",
       "      <th>2</th>\n",
       "      <td>3</td>\n",
       "      <td>1</td>\n",
       "      <td>3</td>\n",
       "      <td>Heikkinen, Miss. Laina</td>\n",
       "      <td>female</td>\n",
       "      <td>26.0</td>\n",
       "      <td>0</td>\n",
       "      <td>0</td>\n",
       "      <td>STON/O2. 3101282</td>\n",
       "      <td>7.9250</td>\n",
       "      <td>NaN</td>\n",
       "      <td>S</td>\n",
       "    </tr>\n",
       "    <tr>\n",
       "      <th>3</th>\n",
       "      <td>4</td>\n",
       "      <td>1</td>\n",
       "      <td>1</td>\n",
       "      <td>Futrelle, Mrs. Jacques Heath (Lily May Peel)</td>\n",
       "      <td>female</td>\n",
       "      <td>35.0</td>\n",
       "      <td>1</td>\n",
       "      <td>0</td>\n",
       "      <td>113803</td>\n",
       "      <td>53.1000</td>\n",
       "      <td>C123</td>\n",
       "      <td>S</td>\n",
       "    </tr>\n",
       "    <tr>\n",
       "      <th>4</th>\n",
       "      <td>5</td>\n",
       "      <td>0</td>\n",
       "      <td>3</td>\n",
       "      <td>Allen, Mr. William Henry</td>\n",
       "      <td>male</td>\n",
       "      <td>35.0</td>\n",
       "      <td>0</td>\n",
       "      <td>0</td>\n",
       "      <td>373450</td>\n",
       "      <td>8.0500</td>\n",
       "      <td>NaN</td>\n",
       "      <td>S</td>\n",
       "    </tr>\n",
       "  </tbody>\n",
       "</table>\n",
       "</div>"
      ],
      "text/plain": [
       "   PassengerId  Survived  Pclass  \\\n",
       "0            1         0       3   \n",
       "1            2         1       1   \n",
       "2            3         1       3   \n",
       "3            4         1       1   \n",
       "4            5         0       3   \n",
       "\n",
       "                                                Name     Sex   Age  SibSp  \\\n",
       "0                            Braund, Mr. Owen Harris    male  22.0      1   \n",
       "1  Cumings, Mrs. John Bradley (Florence Briggs Th...  female  38.0      1   \n",
       "2                             Heikkinen, Miss. Laina  female  26.0      0   \n",
       "3       Futrelle, Mrs. Jacques Heath (Lily May Peel)  female  35.0      1   \n",
       "4                           Allen, Mr. William Henry    male  35.0      0   \n",
       "\n",
       "   Parch            Ticket     Fare Cabin Embarked  \n",
       "0      0         A/5 21171   7.2500   NaN        S  \n",
       "1      0          PC 17599  71.2833   C85        C  \n",
       "2      0  STON/O2. 3101282   7.9250   NaN        S  \n",
       "3      0            113803  53.1000  C123        S  \n",
       "4      0            373450   8.0500   NaN        S  "
      ]
     },
     "execution_count": 9,
     "metadata": {},
     "output_type": "execute_result"
    }
   ],
   "source": [
    "df.head()"
   ]
  },
  {
   "cell_type": "markdown",
   "id": "f5b4003a-6bdb-49cd-9242-4fd059b88fd1",
   "metadata": {},
   "source": [
    "#### Size of the data"
   ]
  },
  {
   "cell_type": "code",
   "execution_count": 10,
   "id": "a3bbb3ea-89b1-4bd2-bfd3-c5451c71bf7c",
   "metadata": {},
   "outputs": [
    {
     "data": {
      "text/plain": [
       "(891, 12)"
      ]
     },
     "execution_count": 10,
     "metadata": {},
     "output_type": "execute_result"
    }
   ],
   "source": [
    "df.shape"
   ]
  },
  {
   "cell_type": "markdown",
   "id": "d543ad1e-37f9-44c6-8a2e-a4673a5a7399",
   "metadata": {},
   "source": [
    "#### Type of data"
   ]
  },
  {
   "cell_type": "code",
   "execution_count": 11,
   "id": "b867fa49-9662-4dff-9c3d-9a7bd1f2a2bb",
   "metadata": {},
   "outputs": [
    {
     "name": "stdout",
     "output_type": "stream",
     "text": [
      "<class 'pandas.core.frame.DataFrame'>\n",
      "RangeIndex: 891 entries, 0 to 890\n",
      "Data columns (total 12 columns):\n",
      " #   Column       Non-Null Count  Dtype  \n",
      "---  ------       --------------  -----  \n",
      " 0   PassengerId  891 non-null    int64  \n",
      " 1   Survived     891 non-null    int64  \n",
      " 2   Pclass       891 non-null    int64  \n",
      " 3   Name         891 non-null    object \n",
      " 4   Sex          891 non-null    object \n",
      " 5   Age          714 non-null    float64\n",
      " 6   SibSp        891 non-null    int64  \n",
      " 7   Parch        891 non-null    int64  \n",
      " 8   Ticket       891 non-null    object \n",
      " 9   Fare         891 non-null    float64\n",
      " 10  Cabin        204 non-null    object \n",
      " 11  Embarked     889 non-null    object \n",
      "dtypes: float64(2), int64(5), object(5)\n",
      "memory usage: 83.7+ KB\n"
     ]
    }
   ],
   "source": [
    "df.info()"
   ]
  },
  {
   "cell_type": "markdown",
   "id": "9756cc2c-73a6-492c-92ee-d6ecddedbaf9",
   "metadata": {},
   "source": [
    "### Cleaning dataset"
   ]
  },
  {
   "cell_type": "markdown",
   "id": "8b61c014-e782-43cc-a074-0bd9cf2bb701",
   "metadata": {},
   "source": [
    "#### Drop columns that are not interested in"
   ]
  },
  {
   "cell_type": "code",
   "execution_count": 12,
   "id": "56d36f81-5221-43f3-88be-0b59983c5467",
   "metadata": {
    "tags": []
   },
   "outputs": [],
   "source": [
    "df = df.drop(columns=['PassengerId', 'Name', 'Ticket', 'Cabin'])"
   ]
  },
  {
   "cell_type": "markdown",
   "id": "7e7cdacc-83e7-431f-a8bb-b9649e4cbd77",
   "metadata": {},
   "source": [
    "#### Checking for missing value"
   ]
  },
  {
   "cell_type": "code",
   "execution_count": 13,
   "id": "188f3476-7883-49a3-b055-6cc82407a0cb",
   "metadata": {},
   "outputs": [
    {
     "data": {
      "text/plain": [
       "Survived      0\n",
       "Pclass        0\n",
       "Sex           0\n",
       "Age         177\n",
       "SibSp         0\n",
       "Parch         0\n",
       "Fare          0\n",
       "Embarked      2\n",
       "dtype: int64"
      ]
     },
     "execution_count": 13,
     "metadata": {},
     "output_type": "execute_result"
    }
   ],
   "source": [
    "df.isna().sum()"
   ]
  },
  {
   "cell_type": "markdown",
   "id": "7089b81f-1128-45cd-a57a-969bc41d1a59",
   "metadata": {},
   "source": [
    "#### Imputing missing values"
   ]
  },
  {
   "cell_type": "code",
   "execution_count": 14,
   "id": "55179e38-55c6-401b-87e8-e864007212e1",
   "metadata": {},
   "outputs": [],
   "source": [
    "Age_mean = df['Age'].mean()\n",
    "\n",
    "df.Age = df.Age.fillna(value=Age_mean)\n",
    "df=df.dropna()"
   ]
  },
  {
   "cell_type": "code",
   "execution_count": 15,
   "id": "7e63a5e0-505c-4bd0-9ea9-7f7c0871e1c3",
   "metadata": {},
   "outputs": [
    {
     "data": {
      "text/plain": [
       "Survived    0\n",
       "Pclass      0\n",
       "Sex         0\n",
       "Age         0\n",
       "SibSp       0\n",
       "Parch       0\n",
       "Fare        0\n",
       "Embarked    0\n",
       "dtype: int64"
      ]
     },
     "execution_count": 15,
     "metadata": {},
     "output_type": "execute_result"
    }
   ],
   "source": [
    "df.isna().sum()"
   ]
  },
  {
   "cell_type": "code",
   "execution_count": 16,
   "id": "e4f3ccf2-b75a-469d-a463-6c5a27f1a57d",
   "metadata": {},
   "outputs": [
    {
     "data": {
      "text/html": [
       "<div>\n",
       "<style scoped>\n",
       "    .dataframe tbody tr th:only-of-type {\n",
       "        vertical-align: middle;\n",
       "    }\n",
       "\n",
       "    .dataframe tbody tr th {\n",
       "        vertical-align: top;\n",
       "    }\n",
       "\n",
       "    .dataframe thead th {\n",
       "        text-align: right;\n",
       "    }\n",
       "</style>\n",
       "<table border=\"1\" class=\"dataframe\">\n",
       "  <thead>\n",
       "    <tr style=\"text-align: right;\">\n",
       "      <th></th>\n",
       "      <th>Survived</th>\n",
       "      <th>Pclass</th>\n",
       "      <th>Sex</th>\n",
       "      <th>Age</th>\n",
       "      <th>SibSp</th>\n",
       "      <th>Parch</th>\n",
       "      <th>Fare</th>\n",
       "      <th>Embarked</th>\n",
       "    </tr>\n",
       "  </thead>\n",
       "  <tbody>\n",
       "    <tr>\n",
       "      <th>0</th>\n",
       "      <td>0</td>\n",
       "      <td>3</td>\n",
       "      <td>male</td>\n",
       "      <td>22.0</td>\n",
       "      <td>1</td>\n",
       "      <td>0</td>\n",
       "      <td>7.2500</td>\n",
       "      <td>S</td>\n",
       "    </tr>\n",
       "    <tr>\n",
       "      <th>1</th>\n",
       "      <td>1</td>\n",
       "      <td>1</td>\n",
       "      <td>female</td>\n",
       "      <td>38.0</td>\n",
       "      <td>1</td>\n",
       "      <td>0</td>\n",
       "      <td>71.2833</td>\n",
       "      <td>C</td>\n",
       "    </tr>\n",
       "    <tr>\n",
       "      <th>2</th>\n",
       "      <td>1</td>\n",
       "      <td>3</td>\n",
       "      <td>female</td>\n",
       "      <td>26.0</td>\n",
       "      <td>0</td>\n",
       "      <td>0</td>\n",
       "      <td>7.9250</td>\n",
       "      <td>S</td>\n",
       "    </tr>\n",
       "    <tr>\n",
       "      <th>3</th>\n",
       "      <td>1</td>\n",
       "      <td>1</td>\n",
       "      <td>female</td>\n",
       "      <td>35.0</td>\n",
       "      <td>1</td>\n",
       "      <td>0</td>\n",
       "      <td>53.1000</td>\n",
       "      <td>S</td>\n",
       "    </tr>\n",
       "    <tr>\n",
       "      <th>4</th>\n",
       "      <td>0</td>\n",
       "      <td>3</td>\n",
       "      <td>male</td>\n",
       "      <td>35.0</td>\n",
       "      <td>0</td>\n",
       "      <td>0</td>\n",
       "      <td>8.0500</td>\n",
       "      <td>S</td>\n",
       "    </tr>\n",
       "  </tbody>\n",
       "</table>\n",
       "</div>"
      ],
      "text/plain": [
       "   Survived  Pclass     Sex   Age  SibSp  Parch     Fare Embarked\n",
       "0         0       3    male  22.0      1      0   7.2500        S\n",
       "1         1       1  female  38.0      1      0  71.2833        C\n",
       "2         1       3  female  26.0      0      0   7.9250        S\n",
       "3         1       1  female  35.0      1      0  53.1000        S\n",
       "4         0       3    male  35.0      0      0   8.0500        S"
      ]
     },
     "execution_count": 16,
     "metadata": {},
     "output_type": "execute_result"
    }
   ],
   "source": [
    "df.head()"
   ]
  },
  {
   "cell_type": "markdown",
   "id": "9261ca91-30cb-4470-afd2-c298bc190555",
   "metadata": {},
   "source": [
    "#### Convert categorical variables "
   ]
  },
  {
   "cell_type": "code",
   "execution_count": 17,
   "id": "d8c5203a-e070-44d8-b1fc-9f8efda21667",
   "metadata": {},
   "outputs": [
    {
     "data": {
      "text/html": [
       "<div>\n",
       "<style scoped>\n",
       "    .dataframe tbody tr th:only-of-type {\n",
       "        vertical-align: middle;\n",
       "    }\n",
       "\n",
       "    .dataframe tbody tr th {\n",
       "        vertical-align: top;\n",
       "    }\n",
       "\n",
       "    .dataframe thead th {\n",
       "        text-align: right;\n",
       "    }\n",
       "</style>\n",
       "<table border=\"1\" class=\"dataframe\">\n",
       "  <thead>\n",
       "    <tr style=\"text-align: right;\">\n",
       "      <th></th>\n",
       "      <th>Survived</th>\n",
       "      <th>Pclass</th>\n",
       "      <th>Sex</th>\n",
       "      <th>Age</th>\n",
       "      <th>SibSp</th>\n",
       "      <th>Parch</th>\n",
       "      <th>Fare</th>\n",
       "      <th>Embarked_Q</th>\n",
       "      <th>Embarked_S</th>\n",
       "    </tr>\n",
       "  </thead>\n",
       "  <tbody>\n",
       "    <tr>\n",
       "      <th>0</th>\n",
       "      <td>0</td>\n",
       "      <td>3</td>\n",
       "      <td>1</td>\n",
       "      <td>22.0</td>\n",
       "      <td>1</td>\n",
       "      <td>0</td>\n",
       "      <td>7.2500</td>\n",
       "      <td>0</td>\n",
       "      <td>1</td>\n",
       "    </tr>\n",
       "    <tr>\n",
       "      <th>1</th>\n",
       "      <td>1</td>\n",
       "      <td>1</td>\n",
       "      <td>1</td>\n",
       "      <td>38.0</td>\n",
       "      <td>1</td>\n",
       "      <td>0</td>\n",
       "      <td>71.2833</td>\n",
       "      <td>0</td>\n",
       "      <td>0</td>\n",
       "    </tr>\n",
       "    <tr>\n",
       "      <th>2</th>\n",
       "      <td>1</td>\n",
       "      <td>3</td>\n",
       "      <td>1</td>\n",
       "      <td>26.0</td>\n",
       "      <td>0</td>\n",
       "      <td>0</td>\n",
       "      <td>7.9250</td>\n",
       "      <td>0</td>\n",
       "      <td>1</td>\n",
       "    </tr>\n",
       "    <tr>\n",
       "      <th>3</th>\n",
       "      <td>1</td>\n",
       "      <td>1</td>\n",
       "      <td>1</td>\n",
       "      <td>35.0</td>\n",
       "      <td>1</td>\n",
       "      <td>0</td>\n",
       "      <td>53.1000</td>\n",
       "      <td>0</td>\n",
       "      <td>1</td>\n",
       "    </tr>\n",
       "    <tr>\n",
       "      <th>4</th>\n",
       "      <td>0</td>\n",
       "      <td>3</td>\n",
       "      <td>1</td>\n",
       "      <td>35.0</td>\n",
       "      <td>0</td>\n",
       "      <td>0</td>\n",
       "      <td>8.0500</td>\n",
       "      <td>0</td>\n",
       "      <td>1</td>\n",
       "    </tr>\n",
       "  </tbody>\n",
       "</table>\n",
       "</div>"
      ],
      "text/plain": [
       "   Survived  Pclass  Sex   Age  SibSp  Parch     Fare  Embarked_Q  Embarked_S\n",
       "0         0       3    1  22.0      1      0   7.2500           0           1\n",
       "1         1       1    1  38.0      1      0  71.2833           0           0\n",
       "2         1       3    1  26.0      0      0   7.9250           0           1\n",
       "3         1       1    1  35.0      1      0  53.1000           0           1\n",
       "4         0       3    1  35.0      0      0   8.0500           0           1"
      ]
     },
     "execution_count": 17,
     "metadata": {},
     "output_type": "execute_result"
    }
   ],
   "source": [
    "df.Sex = df.Sex.replace(\"male\", 1, regex=True)\n",
    "df.Sex = df.Sex.replace(\"female\", 0, regex=True)\n",
    "df = pd.get_dummies(df, prefix_sep='_', drop_first=True)\n",
    "df.head()"
   ]
  },
  {
   "cell_type": "markdown",
   "id": "c0e60513-77c6-4d01-976e-91c8ce0fac77",
   "metadata": {},
   "source": [
    "#### Default Train-Test split"
   ]
  },
  {
   "cell_type": "code",
   "execution_count": 12,
   "id": "97488127-1d99-472c-b732-3fa9f6b1649d",
   "metadata": {},
   "outputs": [],
   "source": [
    "train_set, test_set = train_test_split(df) #default 75-25"
   ]
  },
  {
   "cell_type": "markdown",
   "id": "97949d98-f9fc-4a12-86f0-d91567515d0e",
   "metadata": {},
   "source": [
    "### Visualize the data"
   ]
  },
  {
   "cell_type": "markdown",
   "id": "1a11bf5d-497c-4fef-87d0-5f3f09fa0c20",
   "metadata": {},
   "source": [
    "#### Relation between Gender and Survival"
   ]
  },
  {
   "cell_type": "code",
   "execution_count": 13,
   "id": "cee85e4a-242c-468d-a185-54813427e417",
   "metadata": {},
   "outputs": [
    {
     "name": "stderr",
     "output_type": "stream",
     "text": [
      "/Users/ariv/opt/anaconda3/lib/python3.9/site-packages/seaborn/_decorators.py:36: FutureWarning: Pass the following variable as a keyword arg: x. From version 0.12, the only valid positional argument will be `data`, and passing other arguments without an explicit keyword will result in an error or misinterpretation.\n",
      "  warnings.warn(\n",
      "/Users/ariv/opt/anaconda3/lib/python3.9/site-packages/seaborn/categorical.py:381: DeprecationWarning: distutils Version classes are deprecated. Use packaging.version instead.\n",
      "  if LooseVersion(mpl.__version__) < \"3.0\":\n",
      "/Users/ariv/opt/anaconda3/lib/python3.9/site-packages/setuptools/_distutils/version.py:351: DeprecationWarning: distutils Version classes are deprecated. Use packaging.version instead.\n",
      "  other = LooseVersion(other)\n"
     ]
    },
    {
     "data": {
      "text/plain": [
       "<AxesSubplot:xlabel='Survived', ylabel='count'>"
      ]
     },
     "execution_count": 13,
     "metadata": {},
     "output_type": "execute_result"
    },
    {
     "data": {
      "image/png": "[encoded data removed]",
      "text/plain": [
       "<Figure size 432x288 with 1 Axes>"
      ]
     },
     "metadata": {
      "needs_background": "light"
     },
     "output_type": "display_data"
    }
   ],
   "source": [
    "sns.countplot(\"Survived\", data=train_set,hue=\"Sex\")"
   ]
  },
  {
   "cell_type": "code",
   "execution_count": 14,
   "id": "8470395e-3ea4-404f-a35f-3d6288130141",
   "metadata": {},
   "outputs": [
    {
     "data": {
      "text/plain": [
       "<AxesSubplot:xlabel='Age', ylabel='Count'>"
      ]
     },
     "execution_count": 14,
     "metadata": {},
     "output_type": "execute_result"
    },
    {
     "data": {
      "image/png": "[encoded data removed]",
      "text/plain": [
       "<Figure size 432x288 with 1 Axes>"
      ]
     },
     "metadata": {
      "needs_background": "light"
     },
     "output_type": "display_data"
    }
   ],
   "source": [
    "sns.histplot(data = train_set['Age'])"
   ]
  },
  {
   "cell_type": "code",
   "execution_count": 15,
   "id": "6bc2409e-10af-4990-b9ec-0fb8a515038a",
   "metadata": {},
   "outputs": [
    {
     "data": {
      "text/plain": [
       "<AxesSubplot:xlabel='Fare', ylabel='Count'>"
      ]
     },
     "execution_count": 15,
     "metadata": {},
     "output_type": "execute_result"
    },
    {
     "data": {
      "image/png": "[encoded data removed]",
      "text/plain": [
       "<Figure size 432x288 with 1 Axes>"
      ]
     },
     "metadata": {
      "needs_background": "light"
     },
     "output_type": "display_data"
    }
   ],
   "source": [
    "sns.histplot(data = train_set['Fare'])"
   ]
  },
  {
   "cell_type": "code",
   "execution_count": 16,
   "id": "875ec209-f3b0-4986-a8d9-514fbfbfb688",
   "metadata": {},
   "outputs": [
    {
     "name": "stderr",
     "output_type": "stream",
     "text": [
      "/Users/ariv/opt/anaconda3/lib/python3.9/site-packages/seaborn/_decorators.py:36: FutureWarning: Pass the following variable as a keyword arg: x. From version 0.12, the only valid positional argument will be `data`, and passing other arguments without an explicit keyword will result in an error or misinterpretation.\n",
      "  warnings.warn(\n"
     ]
    },
    {
     "data": {
      "text/plain": [
       "<AxesSubplot:xlabel='Survived', ylabel='count'>"
      ]
     },
     "execution_count": 16,
     "metadata": {},
     "output_type": "execute_result"
    },
    {
     "data": {
      "image/png": "[encoded data removed]",
      "text/plain": [
       "<Figure size 432x288 with 1 Axes>"
      ]
     },
     "metadata": {
      "needs_background": "light"
     },
     "output_type": "display_data"
    }
   ],
   "source": [
    "sns.countplot(train_set.Survived)"
   ]
  },
  {
   "cell_type": "markdown",
   "id": "4efa548e-1f41-4ed7-b5e2-c1427f01edb0",
   "metadata": {},
   "source": [
    "#### Scale Dataset"
   ]
  },
  {
   "cell_type": "code",
   "execution_count": 17,
   "id": "38087ada-9832-4896-86d6-a9c23949488f",
   "metadata": {},
   "outputs": [],
   "source": [
    "# Split the train set and test set into indepedent variables and dependent variable\n",
    "x_train = train_set.drop(columns = ['Survived'])\n",
    "y_train = train_set['Survived']\n",
    "\n",
    "x_test = test_set.drop('Survived', axis = 1) # axis = 1 means in the column ... like rows in axis=0\n",
    "y_test = test_set['Survived']"
   ]
  },
  {
   "cell_type": "code",
   "execution_count": 18,
   "id": "4a4cd3a5-b18f-4bca-9bcc-f7043805b3bc",
   "metadata": {},
   "outputs": [],
   "source": [
    "# Scale the dataset\n",
    "scaler = StandardScaler()\n",
    "scaler.fit(x_train)\n",
    "x_train = scaler.transform(x_train)\n",
    "x_test = scaler.transform(x_test)"
   ]
  },
  {
   "cell_type": "markdown",
   "id": "6fea3007-cd67-4daa-ae5f-e275ca4d13c1",
   "metadata": {},
   "source": [
    "#### Knn model"
   ]
  },
  {
   "cell_type": "code",
   "execution_count": 19,
   "id": "c18c8c52-0547-4bb2-bbb5-6476236d3bc0",
   "metadata": {},
   "outputs": [
    {
     "name": "stdout",
     "output_type": "stream",
     "text": [
      "Accuracy Score:   0.673\n",
      "[[99 39]\n",
      " [34 51]]\n",
      "              precision    recall  f1-score   support\n",
      "\n",
      "           0       0.74      0.72      0.73       138\n",
      "           1       0.57      0.60      0.58        85\n",
      "\n",
      "    accuracy                           0.67       223\n",
      "   macro avg       0.66      0.66      0.66       223\n",
      "weighted avg       0.68      0.67      0.67       223\n",
      "\n"
     ]
    }
   ],
   "source": [
    "# Initiate the model\n",
    "model = RandomForestClassifier()\n",
    "\n",
    "# Train the model\n",
    "model.fit(x_train, y_train)\n",
    "\n",
    "# Make predictions\n",
    "prediction = model.predict(x_test)\n",
    "\n",
    "\n",
    "print(f\"{'Accuracy Score: ':18}{accuracy_score(y_test, prediction):.3f}\")\n",
    "\n",
    "# Evaluate the model\n",
    "print(confusion_matrix(y_test, prediction))\n",
    "print(classification_report(y_test, prediction))"
   ]
  },
  {
   "cell_type": "code",
   "execution_count": 20,
   "id": "623e1c5e-9861-4040-bcdd-6a7836f31b26",
   "metadata": {},
   "outputs": [
    {
     "name": "stdout",
     "output_type": "stream",
     "text": [
      "accuracy score:  0.7373134328358208\n",
      "parameters:  {'metric': 'cosine', 'n_neighbors': 41}\n"
     ]
    }
   ],
   "source": [
    "score_measure = 'accuracy'\n",
    "k_fold = 10\n",
    "# Start with an initial guess for parameters\n",
    "param_grid = {\n",
    "    'n_neighbors': list(range(1,(30*2),2)),\n",
    "    'metric': ['euclidean', 'cosine']\n",
    "}\n",
    "gridSearchBestKnn = GridSearchCV(KNeighborsClassifier(), param_grid, cv=k_fold, scoring=score_measure,\n",
    "                          n_jobs=-1)  # n_jobs=-1 will utilize all available CPUs \n",
    "gridSearchBestKnn.fit(x_train, y_train)\n",
    "y_pred = gridSearchBestKnn.predict(x_test)\n",
    "print(score_measure, 'score: ', gridSearchBestKnn.best_score_)\n",
    "print('parameters: ', gridSearchBestKnn.best_params_)\n",
    "\n",
    "bestRecallKnn = gridSearchBestKnn.best_estimator_"
   ]
  },
  {
   "cell_type": "markdown",
   "id": "db2131c5-5459-4091-9b86-31b982debdc3",
   "metadata": {},
   "source": [
    "### Random Forest"
   ]
  },
  {
   "cell_type": "code",
   "execution_count": 21,
   "id": "11de0c44-7d4d-4ed7-b028-2051ca821714",
   "metadata": {},
   "outputs": [
    {
     "name": "stdout",
     "output_type": "stream",
     "text": [
      "accuracy score:  0.7297602894617821\n",
      "parameters:  {'max_depth': 8, 'min_impurity_decrease': 0.0007, 'min_samples_split': 20}\n",
      "CPU times: user 1.52 s, sys: 151 ms, total: 1.68 s\n",
      "Wall time: 17.8 s\n"
     ]
    }
   ],
   "source": [
    "%%time\n",
    "score_measure = 'accuracy'\n",
    "k_fold = 10\n",
    "param_grid = {\n",
    "    'max_depth': [2,5,3,4,7,8], \n",
    "    'min_samples_split': [20,30, 40,50, 60], \n",
    "    'min_impurity_decrease': [ 0.001, 0.0005, 0.0007,0.0003], \n",
    "}\n",
    "gridSearchRF = GridSearchCV(RandomForestClassifier(random_state=random_seed), param_grid, cv=k_fold, scoring=score_measure,\n",
    "                          n_jobs=-1)\n",
    "\n",
    "gridSearchRF.fit(x_train, y_train)\n",
    "y_pred = gridSearchRF.predict(x_test)\n",
    "print(score_measure, 'score: ', gridSearchRF.best_score_)\n",
    "print('parameters: ', gridSearchRF.best_params_)"
   ]
  },
  {
   "cell_type": "markdown",
   "id": "af060f8d-16f2-4391-b715-68efb6a38038",
   "metadata": {},
   "source": [
    "### MLP"
   ]
  },
  {
   "cell_type": "code",
   "execution_count": 22,
   "id": "2ea92b43-3f8a-46bc-b734-ff502eed05a5",
   "metadata": {},
   "outputs": [
    {
     "name": "stdout",
     "output_type": "stream",
     "text": [
      "accuracy score:  0.7357311188418808\n",
      "parameters:  {'activation': 'relu', 'solver': 'sgd'}\n"
     ]
    }
   ],
   "source": [
    "score_measure = 'accuracy'\n",
    "param_grid = {\n",
    "    'activation': ['identity','logistic','tanh','relu'],\n",
    "    'solver': ['sgd','adam']\n",
    "}\n",
    "gridSearchAnn = GridSearchCV(MLPClassifier(hidden_layer_sizes=(100,50,), max_iter=20000), param_grid, scoring=score_measure, n_jobs=-1)\n",
    "\n",
    "gridSearchAnn.fit(x_train, y_train)\n",
    "\n",
    "y_pred = gridSearchAnn.predict(x_test)\n",
    "print(score_measure, 'score: ', gridSearchAnn.best_score_)\n",
    "print('parameters: ', gridSearchAnn.best_params_)"
   ]
  },
  {
   "cell_type": "markdown",
   "id": "24d1903e-0f20-4dd3-aad3-e2ddd64f6854",
   "metadata": {},
   "source": [
    "### XGBoost"
   ]
  },
  {
   "cell_type": "code",
   "execution_count": 23,
   "id": "abd2ea78-1aed-40ca-8b4e-54bd61328062",
   "metadata": {},
   "outputs": [
    {
     "name": "stderr",
     "output_type": "stream",
     "text": [
      "/Users/ariv/opt/anaconda3/lib/python3.9/site-packages/xgboost/compat.py:36: FutureWarning: pandas.Int64Index is deprecated and will be removed from pandas in a future version. Use pandas.Index with the appropriate dtype instead.\n",
      "  from pandas import MultiIndex, Int64Index\n",
      "/Users/ariv/opt/anaconda3/lib/python3.9/site-packages/xgboost/compat.py:36: FutureWarning: pandas.Int64Index is deprecated and will be removed from pandas in a future version. Use pandas.Index with the appropriate dtype instead.\n",
      "  from pandas import MultiIndex, Int64Index\n",
      "/Users/ariv/opt/anaconda3/lib/python3.9/site-packages/xgboost/compat.py:36: FutureWarning: pandas.Int64Index is deprecated and will be removed from pandas in a future version. Use pandas.Index with the appropriate dtype instead.\n",
      "  from pandas import MultiIndex, Int64Index\n",
      "/Users/ariv/opt/anaconda3/lib/python3.9/site-packages/xgboost/compat.py:36: FutureWarning: pandas.Int64Index is deprecated and will be removed from pandas in a future version. Use pandas.Index with the appropriate dtype instead.\n",
      "  from pandas import MultiIndex, Int64Index\n",
      "/Users/ariv/opt/anaconda3/lib/python3.9/site-packages/xgboost/compat.py:36: FutureWarning: pandas.Int64Index is deprecated and will be removed from pandas in a future version. Use pandas.Index with the appropriate dtype instead.\n",
      "  from pandas import MultiIndex, Int64Index\n",
      "/Users/ariv/opt/anaconda3/lib/python3.9/site-packages/xgboost/compat.py:36: FutureWarning: pandas.Int64Index is deprecated and will be removed from pandas in a future version. Use pandas.Index with the appropriate dtype instead.\n",
      "  from pandas import MultiIndex, Int64Index\n",
      "/Users/ariv/opt/anaconda3/lib/python3.9/site-packages/xgboost/compat.py:36: FutureWarning: pandas.Int64Index is deprecated and will be removed from pandas in a future version. Use pandas.Index with the appropriate dtype instead.\n",
      "  from pandas import MultiIndex, Int64Index\n",
      "/Users/ariv/opt/anaconda3/lib/python3.9/site-packages/xgboost/compat.py:36: FutureWarning: pandas.Int64Index is deprecated and will be removed from pandas in a future version. Use pandas.Index with the appropriate dtype instead.\n",
      "  from pandas import MultiIndex, Int64Index\n"
     ]
    },
    {
     "name": "stdout",
     "output_type": "stream",
     "text": [
      "accuracy score:  0.7191542288557213\n",
      "parameters:  {'learning_rate': 0.1, 'max_depth': 1, 'max_leaves': 1}\n",
      "CPU times: user 534 ms, sys: 140 ms, total: 674 ms\n",
      "Wall time: 28.7 s\n"
     ]
    }
   ],
   "source": [
    "%%time\n",
    "score_measure = 'accuracy'\n",
    "k_fold = 10\n",
    "param_grid = {\n",
    "    'max_depth': (1,2,3),\n",
    "    'max_leaves': (1,2,3),\n",
    "    'learning_rate': (0.1,0.15),\n",
    "}\n",
    "gridSearchXGB = GridSearchCV(XGBClassifier(random_state=random_seed, use_label_encoder = False, eval_metric='mlogloss'), param_grid, cv=k_fold, scoring=score_measure,\n",
    "                          n_jobs=-1)\n",
    "gridSearchXGB.fit(x_train, y_train)\n",
    "y_pred = gridSearchXGB.predict(x_test)\n",
    "print(score_measure, 'score: ', gridSearchXGB.best_score_)\n",
    "print('parameters: ', gridSearchXGB.best_params_)"
   ]
  },
  {
   "cell_type": "markdown",
   "id": "beabd7ad-f44f-4040-abd2-116d96b0dd2c",
   "metadata": {},
   "source": [
    "### Gradient Boost"
   ]
  },
  {
   "cell_type": "code",
   "execution_count": 24,
   "id": "c9a5258d-8cf2-4f4f-b41c-716af4afddc3",
   "metadata": {},
   "outputs": [
    {
     "name": "stdout",
     "output_type": "stream",
     "text": [
      "accuracy score:  0.7116915422885572\n",
      "parameters:  {'learning_rate': 0.5, 'n_estimators': 2}\n",
      "CPU times: user 225 ms, sys: 93.8 ms, total: 319 ms\n",
      "Wall time: 149 ms\n"
     ]
    }
   ],
   "source": [
    "%%time\n",
    "score_measure = 'accuracy'\n",
    "k_fold = 10\n",
    "param_grid = {\n",
    "    'n_estimators': (2,3,5),\n",
    "    'learning_rate': (0.1,0.2,0.3,0.4,0.5)\n",
    "}\n",
    "gridSearchGB = GridSearchCV(GradientBoostingClassifier(random_state=random_seed), param_grid, cv=k_fold, scoring=score_measure,\n",
    "                          n_jobs=-1)\n",
    "gridSearchGB.fit(x_train, y_train)\n",
    "y_pred = gridSearchGB.predict(x_test)\n",
    "print(score_measure, 'score: ', gridSearchGB.best_score_)\n",
    "print('parameters: ', gridSearchGB.best_params_)"
   ]
  },
  {
   "cell_type": "markdown",
   "id": "7e8a5ca6-5970-4b56-8a0e-bdad8e81b0b0",
   "metadata": {},
   "source": [
    "### Decision tree"
   ]
  },
  {
   "cell_type": "code",
   "execution_count": 25,
   "id": "a219c21e-aa5e-4447-90f7-3a9e9b02c089",
   "metadata": {},
   "outputs": [
    {
     "name": "stdout",
     "output_type": "stream",
     "text": [
      "accuracy score:  0.6965626413387608\n",
      "Best Accuracy Score: 0.682\n",
      "parameters:  {'max_depth': 10, 'min_impurity_decrease': 0, 'min_samples_split': 40}\n"
     ]
    }
   ],
   "source": [
    "\n",
    "score_measure = 'accuracy'\n",
    "k_fold = 10\n",
    "# Start with an initial guess for parameters\n",
    "param_grid = {\n",
    "    'max_depth': [10, 20, 30, 40], \n",
    "    'min_samples_split': [2, 5, 10, 20, 40], \n",
    "    'min_impurity_decrease': [0, 0.0005, 0.001, 0.005, 0.01], \n",
    "}\n",
    "gridSearchBestDT = GridSearchCV(DecisionTreeClassifier(random_state=1), param_grid, cv=k_fold, scoring=score_measure,\n",
    "                          n_jobs=-1)  # n_jobs=-1 will utilize all available CPUs \n",
    "gridSearchBestDT.fit(x_train, y_train)\n",
    "y_pred = gridSearchBestDT.predict(x_test)\n",
    "print(score_measure, 'score: ', gridSearchBestDT.best_score_)\n",
    "print(f\"{'Best Accuracy Score: ':18}{accuracy_score(y_test, y_pred):.3f}\")\n",
    "print('parameters: ', gridSearchBestDT.best_params_)"
   ]
  },
  {
   "cell_type": "markdown",
   "id": "377c58f9-f7d9-4065-b894-201a9e6cb543",
   "metadata": {},
   "source": [
    "### Summary"
   ]
  },
  {
   "cell_type": "markdown",
   "id": "0745acfe-17e3-46a6-8427-076d8a51fc46",
   "metadata": {},
   "source": [
    "### Max accuracy in MLP with accuracy value =  0.7357311188418808"
   ]
  },
  {
   "cell_type": "code",
   "execution_count": null,
   "id": "ce1aaea0-c1ca-4613-a5e1-70328e4bf019",
   "metadata": {},
   "outputs": [],
   "source": []
  }
 ],
 "metadata": {
  "kernelspec": {
   "display_name": "Python 3 (ipykernel)",
   "language": "python",
   "name": "python3"
  },
  "language_info": {
   "codemirror_mode": {
    "name": "ipython",
    "version": 3
   },
   "file_extension": ".py",
   "mimetype": "text/x-python",
   "name": "python",
   "nbconvert_exporter": "python",
   "pygments_lexer": "ipython3",
   "version": "3.9.12"
  }
 },
 "nbformat": 4,
 "nbformat_minor": 5
}
